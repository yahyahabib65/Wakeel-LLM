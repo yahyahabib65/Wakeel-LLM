{
  "cells": [
    {
      "cell_type": "markdown",
      "id": "73f4d7b7-40bf-43b9-a626-2a11d5529ac8",
      "metadata": {
        "id": "73f4d7b7-40bf-43b9-a626-2a11d5529ac8"
      },
      "source": [
        "### Groq Client and relevant imports"
      ]
    },
    {
      "cell_type": "code",
      "source": [
        "#!pip install groq\n",
        "#!pip install dotenv\n",
        "#!pip install agentic-patterns\n",
        "!pip install python-docx\n"
      ],
      "metadata": {
        "colab": {
          "base_uri": "https://localhost:8080/"
        },
        "id": "xI5YGGU_3AZ-",
        "outputId": "fdcf8c2d-6d4a-4595-b856-a622a1fd4d03",
        "collapsed": true
      },
      "id": "xI5YGGU_3AZ-",
      "execution_count": 19,
      "outputs": [
        {
          "output_type": "stream",
          "name": "stdout",
          "text": [
            "Collecting python-docx\n",
            "  Downloading python_docx-1.1.2-py3-none-any.whl.metadata (2.0 kB)\n",
            "Requirement already satisfied: lxml>=3.1.0 in /usr/local/lib/python3.11/dist-packages (from python-docx) (5.3.2)\n",
            "Requirement already satisfied: typing-extensions>=4.9.0 in /usr/local/lib/python3.11/dist-packages (from python-docx) (4.13.1)\n",
            "Downloading python_docx-1.1.2-py3-none-any.whl (244 kB)\n",
            "\u001b[?25l   \u001b[90m━━━━━━━━━━━━━━━━━━━━━━━━━━━━━━━━━━━━━━━━\u001b[0m \u001b[32m0.0/244.3 kB\u001b[0m \u001b[31m?\u001b[0m eta \u001b[36m-:--:--\u001b[0m\r\u001b[2K   \u001b[91m━━━━━━━━━━━━━━━\u001b[0m\u001b[90m╺\u001b[0m\u001b[90m━━━━━━━━━━━━━━━━━━━━━━━━\u001b[0m \u001b[32m92.2/244.3 kB\u001b[0m \u001b[31m2.5 MB/s\u001b[0m eta \u001b[36m0:00:01\u001b[0m\r\u001b[2K   \u001b[90m━━━━━━━━━━━━━━━━━━━━━━━━━━━━━━━━━━━━━━━━\u001b[0m \u001b[32m244.3/244.3 kB\u001b[0m \u001b[31m3.9 MB/s\u001b[0m eta \u001b[36m0:00:00\u001b[0m\n",
            "\u001b[?25hInstalling collected packages: python-docx\n",
            "Successfully installed python-docx-1.1.2\n"
          ]
        }
      ]
    },
    {
      "cell_type": "code",
      "execution_count": 10,
      "id": "96731d2f-a079-4e41-9756-220f02d4ebd8",
      "metadata": {
        "id": "96731d2f-a079-4e41-9756-220f02d4ebd8"
      },
      "outputs": [],
      "source": [
        "from pprint import pprint\n",
        "from groq import Groq\n",
        "from dotenv import load_dotenv\n",
        "from IPython.display import display_markdown\n",
        "import os\n",
        "# Set Groq API key\n",
        "os.environ[\"GROQ_API_KEY\"]= \"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\"\n",
        "client = Groq()"
      ]
    },
    {
      "cell_type": "markdown",
      "id": "eb11c5a8-fc37-42e3-a521-8cf87ae86dbc",
      "metadata": {
        "id": "eb11c5a8-fc37-42e3-a521-8cf87ae86dbc"
      },
      "source": [
        "## The Crew"
      ]
    },
    {
      "cell_type": "code",
      "execution_count": 11,
      "id": "66c83cc4-87cf-4afc-855b-e5263ad95a71",
      "metadata": {
        "id": "66c83cc4-87cf-4afc-855b-e5263ad95a71"
      },
      "outputs": [],
      "source": [
        "from agentic_patterns.multiagent_pattern.crew import Crew\n",
        "\n",
        "class GroqLLM:\n",
        "    def __init__(self, model=\"llama3-70b-8192\"):\n",
        "        self.client = Groq()\n",
        "        self.model = model\n",
        "\n",
        "    def complete(self, prompt):\n",
        "        response = self.client.chat.completions.create(\n",
        "            messages=[{\"role\": \"user\", \"content\": prompt}],\n",
        "            model=self.model,\n",
        "            temperature=0.7\n",
        "        )\n",
        "        return type('obj', (object,), {'text': response.choices[0].message.content})"
      ]
    },
    {
      "cell_type": "code",
      "source": [
        "import re\n",
        "from agentic_patterns.multiagent_pattern.crew import Crew\n",
        "from datetime import datetime\n",
        "import os\n",
        "\n",
        "# Assuming llm is initialized earlier\n",
        "llm = GroqLLM(model=\"llama3-70b-8192\")\n",
        "\n",
        "class DraftCompletionAgent:\n",
        "    def __init__(self, llm):\n",
        "        self.name = \"Draft Completion Agent\"\n",
        "        self.dependencies = []\n",
        "        self.dependents = []\n",
        "        self.llm = llm\n",
        "        self.user_inputs = {}\n",
        "        self.output = None\n",
        "\n",
        "    def ask_user(self, question_key, question_text):\n",
        "        print(f\"{question_text}\")\n",
        "        user_input = input(\"→ \")\n",
        "        self.user_inputs[question_key] = user_input\n",
        "\n",
        "    def run(self):\n",
        "        questions = [\n",
        "            (\"wife_name\", \"1. Full name of the wife (plaintiff):\"),\n",
        "            (\"wife_father\", \"2. What is the father’s name of the wife?\"),\n",
        "            (\"wife_cnic\", \"3. What is the CNIC number of the wife?\"),\n",
        "            (\"wife_address\", \"3. Current address of the wife:\"),\n",
        "            (\"husband_name\", \"4. Full name of the husband (defendant):\"),\n",
        "            (\"husband_father\", \"5. Father’s name of the husband:\"),\n",
        "            (\"husband_address\", \"6. Address of the husband:\"),\n",
        "            (\"marriage_date_city\", \"7. City and date of marriage:\"),\n",
        "            (\"haq_mehr\", \"8. Haq Mehr amount and whether paid:\"),\n",
        "            (\"children\", \"9. Any children? Provide names and dates of birth:\"),\n",
        "            (\"separation_duration\", \"10. Duration of separation:\"),\n",
        "            (\"maintenance\", \"11. Has husband paid any maintenance?\"),\n",
        "            (\"khula_reasons\", \"12. Reasons for seeking Khula:\"),\n",
        "            (\"divorce_requests\", \"13. Have you requested divorce? What was his response?\"),\n",
        "            (\"cause_recent\", \"14. When did the cause of action arise?\"),\n",
        "            (\"filing_city\", \"15. City where this suit will be filed:\"),\n",
        "            (\"lawyer_name\", \"16. Do you want to include lawyer's name? If yes, enter full name.\"),\n",
        "        ]\n",
        "\n",
        "        print(\"📄 Let's collect details for your Khula Petition:\")\n",
        "\n",
        "        for key, text in questions:\n",
        "            self.ask_user(key, text)\n",
        "\n",
        "        formatted = \"\\n\".join([f\"{key}: {val}\" for key, val in self.user_inputs.items()])\n",
        "        generation_prompt = f\"\"\"Using the following information, draft a formal Khula Petition for submission in a Pakistani Family Court. Structure it using professional legal formatting including paragraphs, prayer, and verification. Use formal respectful tone:\n",
        "\n",
        "{formatted}\n",
        "\n",
        "Start now:\"\"\"\n",
        "\n",
        "        self.output = self.llm.complete(generation_prompt).text\n",
        "        return f\"✅ Draft Completed:\\n\\n{self.output[:800]}...\"\n",
        "\n",
        "\n",
        "class PlainTextCleanerAgent:\n",
        "    def __init__(self):\n",
        "        self.name = \"Plain Text Cleaner Agent\"\n",
        "        self.dependencies = []\n",
        "        self.dependents = []\n",
        "        self.output = None\n",
        "\n",
        "    def clean_text(self, text):\n",
        "        # Remove Markdown headings, formatting, special bullets, and double newlines\n",
        "        cleaned = re.sub(r\"#.*\", \"\", text)  # remove headings\n",
        "        cleaned = re.sub(r\"\\*\\*(.*?)\\*\\*\", r\"\\1\", cleaned)  # bold markdown\n",
        "        cleaned = re.sub(r\"[_*`~\\-•▪️▶️➤→◼️]\", \"\", cleaned)  # misc symbols\n",
        "        cleaned = re.sub(r\"\\n\\s*\\n\", \"\\n\", cleaned)  # excessive newlines\n",
        "        cleaned = re.sub(r\"\\s{2,}\", \" \", cleaned)  # remove extra spaces\n",
        "        return cleaned.strip()\n",
        "\n",
        "    def run(self):\n",
        "        raw_text = next(iter(self.dependencies)).output\n",
        "        self.output = self.clean_text(raw_text)\n",
        "        return f\"🧹 Cleaned text ready for writing.\\nPreview:\\n{self.output[:500]}...\"\n",
        "\n",
        "\n",
        "class KhulaFileWriterAgent:\n",
        "    def __init__(self):\n",
        "        self.name = \"Khula File Writer Agent\"\n",
        "        self.dependencies = []\n",
        "        self.dependents = []\n",
        "        self.output = None\n",
        "\n",
        "    def run(self):\n",
        "        final_text = next(iter(self.dependencies)).output\n",
        "        timestamp = datetime.now().strftime(\"%Y%m%d_%H%M%S\")\n",
        "        os.makedirs(\"outputs\", exist_ok=True)\n",
        "        filename = f\"outputs/khula_petition_clean_{timestamp}.txt\"\n",
        "\n",
        "        with open(filename, \"w\", encoding=\"utf-8\") as f:\n",
        "            f.write(final_text)\n",
        "\n",
        "        self.output = f\"📝 File saved to {filename}\"\n",
        "        return self.output\n",
        "\n",
        "\n",
        "# Crew setup\n",
        "with Crew() as crew:\n",
        "    drafter = DraftCompletionAgent(llm)\n",
        "    cleaner = PlainTextCleanerAgent()\n",
        "    file_writer = KhulaFileWriterAgent()\n",
        "\n",
        "    # Register agents\n",
        "    crew.add_agent(drafter)\n",
        "    crew.add_agent(cleaner)\n",
        "    crew.add_agent(file_writer)\n",
        "\n",
        "    # Set dependencies\n",
        "    cleaner.dependencies.append(drafter)\n",
        "    drafter.dependents.append(cleaner)\n",
        "\n",
        "    file_writer.dependencies.append(cleaner)\n",
        "    cleaner.dependents.append(file_writer)\n",
        "\n",
        "    print(\"🚀 Launching Khula Petition Workflow (with cleaning)...\")\n",
        "    crew.run()\n"
      ],
      "metadata": {
        "colab": {
          "base_uri": "https://localhost:8080/"
        },
        "id": "EiB2LvanDRlw",
        "outputId": "076fdead-d11c-4f2b-e181-fd873325f1cb"
      },
      "id": "EiB2LvanDRlw",
      "execution_count": 16,
      "outputs": [
        {
          "output_type": "stream",
          "name": "stdout",
          "text": [
            "🚀 Launching Khula Petition Workflow (with cleaning)...\n",
            "\u001b[1m\u001b[36m\n",
            "==================================================\n",
            "\u001b[35mRUNNING AGENT: <__main__.DraftCompletionAgent object at 0x7894e63ef490>\n",
            "\u001b[1m\u001b[36m==================================================\n",
            "\n",
            "📄 Let's collect details for your Khula Petition:\n",
            "1. Full name of the wife (plaintiff):\n",
            "→ Razia Khadim\n",
            "2. What is the father’s name of the wife?\n",
            "→ Ali Rizvi\n",
            "3. What is the CNIC number of the wife?\n",
            "→ 35409-89092920-2\n",
            "3. Current address of the wife:\n",
            "→ House 90, Muhallah XYZ, Lahore\n",
            "4. Full name of the husband (defendant):\n",
            "→ Waheed Khan\n",
            "5. Father’s name of the husband:\n",
            "→ Murtaza Khan\n",
            "6. Address of the husband:\n",
            "→ House 67, Shahdara Town, Lahore\n",
            "7. City and date of marriage:\n",
            "→ Lahore, 23-09-2020\n",
            "8. Haq Mehr amount and whether paid:\n",
            "→ 200000, not paid\n",
            "9. Any children? Provide names and dates of birth:\n",
            "→ One, Umer, 23-10-2022\n",
            "10. Duration of separation:\n",
            "→ 1 year\n",
            "11. Has husband paid any maintenance?\n",
            "→ No\n",
            "12. Reasons for seeking Khula:\n",
            "→ Domestic Violence\n",
            "13. Have you requested divorce? What was his response?\n",
            "→ Yes, denied\n",
            "14. When did the cause of action arise?\n",
            "→ Since marriage\n",
            "15. City where this suit will be filed:\n",
            "→ Lahore\n",
            "16. Do you want to include lawyer's name? If yes, enter full name.\n",
            "→ Parveen Shakir\n",
            "\u001b[31m✅ Draft Completed:\n",
            "\n",
            "Here is a draft of a formal Khula Petition for submission in a Pakistani Family Court:\n",
            "\n",
            "**IN THE COURT OF FAMILY JUDGE, LAHORE**\n",
            "\n",
            "**Khula Petition No. __________ of 2023**\n",
            "\n",
            "**Razia Khadim, Petitioner**\n",
            "**Vs.**\n",
            "**Waheed Khan, Respondent**\n",
            "\n",
            "**PETITION FOR KHULA UNDER SECTION 10 OF THE DISSOLUTION OF MUSLIM MARRIAGES ACT, 1939**\n",
            "\n",
            "To,\n",
            "The Honourable Family Judge,\n",
            "Family Court, Lahore.\n",
            "\n",
            "**PARAGRAPH 1: INTRODUCTION**\n",
            "\n",
            "Respectfully, I, Razia Khadim, daughter of Ali Rizvi, holding CNIC No. 35409-89092920-2, resident of House 90, Muhallah XYZ, Lahore, do hereby petition for khula against my husband, Waheed Khan, son of Murtaza Khan, resident of House 67, Shahdara Town, Lahore.\n",
            "\n",
            "**PARAGRAPH 2: MARRIAGE DETAILS**\n",
            "\n",
            "I was married to the respondent on 23rd September 2020, at Lahore, according to Islamic...\n",
            "\u001b[1m\u001b[36m\n",
            "==================================================\n",
            "\u001b[35mRUNNING AGENT: <__main__.PlainTextCleanerAgent object at 0x7894e63a7250>\n",
            "\u001b[1m\u001b[36m==================================================\n",
            "\n",
            "\u001b[31m🧹 Cleaned text ready for writing.\n",
            "Preview:\n",
            "Here is a draft of a formal Khula Petition for submission in a Pakistani Family Court:\n",
            "IN THE COURT OF FAMILY JUDGE, LAHORE\n",
            "Khula Petition No. of 2023\n",
            "Razia Khadim, Petitioner\n",
            "Vs.\n",
            "Waheed Khan, Respondent\n",
            "PETITION FOR KHULA UNDER SECTION 10 OF THE DISSOLUTION OF MUSLIM MARRIAGES ACT, 1939\n",
            "To,\n",
            "The Honourable Family Judge,\n",
            "Family Court, Lahore.\n",
            "PARAGRAPH 1: INTRODUCTION\n",
            "Respectfully, I, Razia Khadim, daughter of Ali Rizvi, holding CNIC No. 35409890929202, resident of House 90, Muhallah XYZ, Lahore,...\n",
            "\u001b[1m\u001b[36m\n",
            "==================================================\n",
            "\u001b[35mRUNNING AGENT: <__main__.KhulaFileWriterAgent object at 0x7894e63ef150>\n",
            "\u001b[1m\u001b[36m==================================================\n",
            "\n",
            "\u001b[31m📝 File saved to outputs/khula_petition_clean_20250417_094213.txt\n"
          ]
        }
      ]
    },
    {
      "cell_type": "markdown",
      "source": [],
      "metadata": {
        "id": "zp79TpkemKUN"
      },
      "id": "zp79TpkemKUN"
    },
    {
      "cell_type": "code",
      "execution_count": 17,
      "id": "9027cbdc-2bb0-419b-87a0-0352f59d3079",
      "metadata": {
        "id": "9027cbdc-2bb0-419b-87a0-0352f59d3079",
        "colab": {
          "base_uri": "https://localhost:8080/",
          "height": 272
        },
        "outputId": "be7d115a-fef6-4bba-83e0-e2988d906877"
      },
      "outputs": [
        {
          "output_type": "execute_result",
          "data": {
            "image/svg+xml": "<?xml version=\"1.0\" encoding=\"UTF-8\" standalone=\"no\"?>\n<!DOCTYPE svg PUBLIC \"-//W3C//DTD SVG 1.1//EN\"\n \"http://www.w3.org/Graphics/SVG/1.1/DTD/svg11.dtd\">\n<!-- Generated by graphviz version 2.43.0 (0)\n -->\n<!-- Title: %3 Pages: 1 -->\n<svg width=\"207pt\" height=\"188pt\"\n viewBox=\"0.00 0.00 206.88 188.00\" xmlns=\"http://www.w3.org/2000/svg\" xmlns:xlink=\"http://www.w3.org/1999/xlink\">\n<g id=\"graph0\" class=\"graph\" transform=\"scale(1 1) rotate(0) translate(4 184)\">\n<title>%3</title>\n<polygon fill=\"white\" stroke=\"transparent\" points=\"-4,4 -4,-184 202.88,-184 202.88,4 -4,4\"/>\n<!-- Draft Completion Agent -->\n<g id=\"node1\" class=\"node\">\n<title>Draft Completion Agent</title>\n<ellipse fill=\"none\" stroke=\"black\" cx=\"99.44\" cy=\"-162\" rx=\"96.68\" ry=\"18\"/>\n<text text-anchor=\"middle\" x=\"99.44\" y=\"-158.3\" font-family=\"Times,serif\" font-size=\"14.00\">Draft Completion Agent</text>\n</g>\n<!-- Plain Text Cleaner Agent -->\n<g id=\"node2\" class=\"node\">\n<title>Plain Text Cleaner Agent</title>\n<ellipse fill=\"none\" stroke=\"black\" cx=\"99.44\" cy=\"-90\" rx=\"99.38\" ry=\"18\"/>\n<text text-anchor=\"middle\" x=\"99.44\" y=\"-86.3\" font-family=\"Times,serif\" font-size=\"14.00\">Plain Text Cleaner Agent</text>\n</g>\n<!-- Draft Completion Agent&#45;&gt;Plain Text Cleaner Agent -->\n<g id=\"edge1\" class=\"edge\">\n<title>Draft Completion Agent&#45;&gt;Plain Text Cleaner Agent</title>\n<path fill=\"none\" stroke=\"black\" d=\"M99.44,-143.7C99.44,-135.98 99.44,-126.71 99.44,-118.11\"/>\n<polygon fill=\"black\" stroke=\"black\" points=\"102.94,-118.1 99.44,-108.1 95.94,-118.1 102.94,-118.1\"/>\n</g>\n<!-- Khula File Writer Agent -->\n<g id=\"node3\" class=\"node\">\n<title>Khula File Writer Agent</title>\n<ellipse fill=\"none\" stroke=\"black\" cx=\"99.44\" cy=\"-18\" rx=\"96.68\" ry=\"18\"/>\n<text text-anchor=\"middle\" x=\"99.44\" y=\"-14.3\" font-family=\"Times,serif\" font-size=\"14.00\">Khula File Writer Agent</text>\n</g>\n<!-- Plain Text Cleaner Agent&#45;&gt;Khula File Writer Agent -->\n<g id=\"edge2\" class=\"edge\">\n<title>Plain Text Cleaner Agent&#45;&gt;Khula File Writer Agent</title>\n<path fill=\"none\" stroke=\"black\" d=\"M99.44,-71.7C99.44,-63.98 99.44,-54.71 99.44,-46.11\"/>\n<polygon fill=\"black\" stroke=\"black\" points=\"102.94,-46.1 99.44,-36.1 95.94,-46.1 102.94,-46.1\"/>\n</g>\n</g>\n</svg>\n",
            "text/plain": [
              "<graphviz.graphs.Digraph at 0x7894e6437a90>"
            ]
          },
          "metadata": {},
          "execution_count": 17
        }
      ],
      "source": [
        "crew.plot()"
      ]
    }
  ],
  "metadata": {
    "colab": {
      "provenance": []
    },
    "kernelspec": {
      "display_name": "Python 3",
      "name": "python3"
    },
    "language_info": {
      "name": "python"
    }
  },
  "nbformat": 4,
  "nbformat_minor": 5
}